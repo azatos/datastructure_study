{
 "cells": [
  {
   "cell_type": "code",
   "execution_count": 6,
   "metadata": {},
   "outputs": [
    {
     "data": {
      "text/plain": [
       "'\\n어려운 부분 : https://github.com/wdlcameron/Solutions-to-Data-Structures-and-Algorithms-in-Python/blob/master/Chapter%205%20Exercises.ipynb 참고함\\n'"
      ]
     },
     "execution_count": 6,
     "metadata": {},
     "output_type": "execute_result"
    }
   ],
   "source": [
    "'''\n",
    "어려운 부분 : https://github.com/wdlcameron/Solutions-to-Data-Structures-and-Algorithms-in-Python/blob/master/Chapter%205%20Exercises.ipynb 참고함\n",
    "'''"
   ]
  },
  {
   "cell_type": "code",
   "execution_count": 8,
   "metadata": {
    "scrolled": true
   },
   "outputs": [
    {
     "name": "stdout",
     "output_type": "stream",
     "text": [
      "Length:   0; Size in bytes:   56\n",
      "Length:   1; Size in bytes:   88\n",
      "Length:   2; Size in bytes:   88\n",
      "Length:   3; Size in bytes:   88\n",
      "Length:   4; Size in bytes:   88\n",
      "Length:   5; Size in bytes:  120\n",
      "Length:   6; Size in bytes:  120\n",
      "Length:   7; Size in bytes:  120\n",
      "Length:   8; Size in bytes:  120\n",
      "Length:   9; Size in bytes:  184\n",
      "Length:  10; Size in bytes:  184\n",
      "Length:  11; Size in bytes:  184\n",
      "Length:  12; Size in bytes:  184\n",
      "Length:  13; Size in bytes:  184\n",
      "Length:  14; Size in bytes:  184\n",
      "Length:  15; Size in bytes:  184\n",
      "Length:  16; Size in bytes:  184\n",
      "Length:  17; Size in bytes:  256\n",
      "Length:  18; Size in bytes:  256\n",
      "Length:  19; Size in bytes:  256\n",
      "Length:  20; Size in bytes:  256\n",
      "Length:  21; Size in bytes:  256\n",
      "Length:  22; Size in bytes:  256\n",
      "Length:  23; Size in bytes:  256\n",
      "Length:  24; Size in bytes:  256\n",
      "Length:  25; Size in bytes:  256\n",
      "Length:  26; Size in bytes:  336\n",
      "Length:  27; Size in bytes:  336\n",
      "Length:  28; Size in bytes:  336\n",
      "Length:  29; Size in bytes:  336\n",
      "Length:  30; Size in bytes:  336\n",
      "Length:  31; Size in bytes:  336\n",
      "Length:  32; Size in bytes:  336\n",
      "Length:  33; Size in bytes:  336\n",
      "Length:  34; Size in bytes:  336\n",
      "Length:  35; Size in bytes:  336\n",
      "Length:  36; Size in bytes:  424\n",
      "Length:  37; Size in bytes:  424\n",
      "Length:  38; Size in bytes:  424\n",
      "Length:  39; Size in bytes:  424\n",
      "Length:  40; Size in bytes:  424\n",
      "Length:  41; Size in bytes:  424\n",
      "Length:  42; Size in bytes:  424\n",
      "Length:  43; Size in bytes:  424\n",
      "Length:  44; Size in bytes:  424\n",
      "Length:  45; Size in bytes:  424\n",
      "Length:  46; Size in bytes:  424\n",
      "Length:  47; Size in bytes:  520\n",
      "Length:  48; Size in bytes:  520\n",
      "Length:  49; Size in bytes:  520\n",
      "Length:  50; Size in bytes:  520\n",
      "Length:  51; Size in bytes:  520\n",
      "Length:  52; Size in bytes:  520\n",
      "Length:  53; Size in bytes:  520\n",
      "Length:  54; Size in bytes:  520\n",
      "Length:  55; Size in bytes:  520\n",
      "Length:  56; Size in bytes:  520\n",
      "Length:  57; Size in bytes:  520\n",
      "Length:  58; Size in bytes:  520\n",
      "Length:  59; Size in bytes:  632\n",
      "Length:  60; Size in bytes:  632\n",
      "Length:  61; Size in bytes:  632\n",
      "Length:  62; Size in bytes:  632\n",
      "Length:  63; Size in bytes:  632\n",
      "Length:  64; Size in bytes:  632\n",
      "Length:  65; Size in bytes:  632\n",
      "Length:  66; Size in bytes:  632\n",
      "Length:  67; Size in bytes:  632\n",
      "Length:  68; Size in bytes:  632\n",
      "Length:  69; Size in bytes:  632\n",
      "Length:  70; Size in bytes:  632\n",
      "Length:  71; Size in bytes:  632\n",
      "Length:  72; Size in bytes:  632\n",
      "Length:  73; Size in bytes:  760\n",
      "Length:  74; Size in bytes:  760\n",
      "Length:  75; Size in bytes:  760\n",
      "Length:  76; Size in bytes:  760\n",
      "Length:  77; Size in bytes:  760\n",
      "Length:  78; Size in bytes:  760\n",
      "Length:  79; Size in bytes:  760\n",
      "Length:  80; Size in bytes:  760\n",
      "Length:  81; Size in bytes:  760\n",
      "Length:  82; Size in bytes:  760\n",
      "Length:  83; Size in bytes:  760\n",
      "Length:  84; Size in bytes:  760\n",
      "Length:  85; Size in bytes:  760\n",
      "Length:  86; Size in bytes:  760\n",
      "Length:  87; Size in bytes:  760\n",
      "Length:  88; Size in bytes:  760\n",
      "Length:  89; Size in bytes:  904\n",
      "Length:  90; Size in bytes:  904\n",
      "Length:  91; Size in bytes:  904\n",
      "Length:  92; Size in bytes:  904\n",
      "Length:  93; Size in bytes:  904\n",
      "Length:  94; Size in bytes:  904\n",
      "Length:  95; Size in bytes:  904\n",
      "Length:  96; Size in bytes:  904\n",
      "Length:  97; Size in bytes:  904\n",
      "Length:  98; Size in bytes:  904\n",
      "Length:  99; Size in bytes:  904\n"
     ]
    }
   ],
   "source": [
    "import sys\n",
    "n=100\n",
    "data=[]\n",
    "for k in range(n):\n",
    "    a=len(data)\n",
    "    b=sys.getsizeof(data)\n",
    "    print('Length: {0:3d}; Size in bytes: {1:4d}'.format(a,b))\n",
    "    data.append(None)"
   ]
  },
  {
   "cell_type": "code",
   "execution_count": 17,
   "metadata": {},
   "outputs": [
    {
     "name": "stdout",
     "output_type": "stream",
     "text": [
      "Length:  99; Size in bytes:  904\n",
      "Length:  98; Size in bytes:  904\n",
      "Length:  97; Size in bytes:  904\n",
      "Length:  96; Size in bytes:  904\n",
      "Length:  95; Size in bytes:  904\n",
      "Length:  94; Size in bytes:  904\n",
      "Length:  93; Size in bytes:  904\n",
      "Length:  92; Size in bytes:  904\n",
      "Length:  91; Size in bytes:  904\n",
      "Length:  90; Size in bytes:  904\n",
      "Length:  89; Size in bytes:  904\n",
      "Length:  88; Size in bytes:  904\n",
      "Length:  87; Size in bytes:  904\n",
      "Length:  86; Size in bytes:  904\n",
      "Length:  85; Size in bytes:  904\n",
      "Length:  84; Size in bytes:  904\n",
      "Length:  83; Size in bytes:  904\n",
      "Length:  82; Size in bytes:  904\n",
      "Length:  81; Size in bytes:  904\n",
      "Length:  80; Size in bytes:  904\n",
      "Length:  79; Size in bytes:  904\n",
      "Length:  78; Size in bytes:  904\n",
      "Length:  77; Size in bytes:  904\n",
      "Length:  76; Size in bytes:  904\n",
      "Length:  75; Size in bytes:  904\n",
      "Length:  74; Size in bytes:  904\n",
      "Length:  73; Size in bytes:  904\n",
      "Length:  72; Size in bytes:  904\n",
      "Length:  71; Size in bytes:  904\n",
      "Length:  70; Size in bytes:  904\n",
      "Length:  69; Size in bytes:  904\n",
      "Length:  68; Size in bytes:  904\n",
      "Length:  67; Size in bytes:  904\n",
      "Length:  66; Size in bytes:  904\n",
      "Length:  65; Size in bytes:  904\n",
      "Length:  64; Size in bytes:  904\n",
      "Length:  63; Size in bytes:  904\n",
      "Length:  62; Size in bytes:  904\n",
      "Length:  61; Size in bytes:  904\n",
      "Length:  60; Size in bytes:  904\n",
      "Length:  59; Size in bytes:  904\n",
      "Length:  58; Size in bytes:  904\n",
      "Length:  57; Size in bytes:  904\n",
      "Length:  56; Size in bytes:  904\n",
      "Length:  55; Size in bytes:  904\n",
      "Length:  54; Size in bytes:  904\n",
      "Length:  53; Size in bytes:  904\n",
      "Length:  52; Size in bytes:  568\n",
      "Length:  51; Size in bytes:  568\n",
      "Length:  50; Size in bytes:  568\n",
      "Length:  49; Size in bytes:  568\n",
      "Length:  48; Size in bytes:  568\n",
      "Length:  47; Size in bytes:  568\n",
      "Length:  46; Size in bytes:  568\n",
      "Length:  45; Size in bytes:  568\n",
      "Length:  44; Size in bytes:  568\n",
      "Length:  43; Size in bytes:  568\n",
      "Length:  42; Size in bytes:  568\n",
      "Length:  41; Size in bytes:  568\n",
      "Length:  40; Size in bytes:  568\n",
      "Length:  39; Size in bytes:  568\n",
      "Length:  38; Size in bytes:  568\n",
      "Length:  37; Size in bytes:  568\n",
      "Length:  36; Size in bytes:  568\n",
      "Length:  35; Size in bytes:  568\n",
      "Length:  34; Size in bytes:  568\n",
      "Length:  33; Size in bytes:  568\n",
      "Length:  32; Size in bytes:  568\n",
      "Length:  31; Size in bytes:  376\n",
      "Length:  30; Size in bytes:  376\n",
      "Length:  29; Size in bytes:  376\n",
      "Length:  28; Size in bytes:  376\n",
      "Length:  27; Size in bytes:  376\n",
      "Length:  26; Size in bytes:  376\n",
      "Length:  25; Size in bytes:  376\n",
      "Length:  24; Size in bytes:  376\n",
      "Length:  23; Size in bytes:  376\n",
      "Length:  22; Size in bytes:  376\n",
      "Length:  21; Size in bytes:  376\n",
      "Length:  20; Size in bytes:  376\n",
      "Length:  19; Size in bytes:  272\n",
      "Length:  18; Size in bytes:  272\n",
      "Length:  17; Size in bytes:  272\n",
      "Length:  16; Size in bytes:  272\n",
      "Length:  15; Size in bytes:  272\n",
      "Length:  14; Size in bytes:  272\n",
      "Length:  13; Size in bytes:  272\n",
      "Length:  12; Size in bytes:  208\n",
      "Length:  11; Size in bytes:  208\n",
      "Length:  10; Size in bytes:  208\n",
      "Length:   9; Size in bytes:  208\n",
      "Length:   8; Size in bytes:  152\n",
      "Length:   7; Size in bytes:  152\n",
      "Length:   6; Size in bytes:  152\n",
      "Length:   5; Size in bytes:  120\n",
      "Length:   4; Size in bytes:  120\n",
      "Length:   3; Size in bytes:  104\n",
      "Length:   2; Size in bytes:   96\n",
      "Length:   1; Size in bytes:   88\n",
      "Length:   0; Size in bytes:   56\n"
     ]
    }
   ],
   "source": [
    "import sys\n",
    "n=100\n",
    "data=[]\n",
    "for k in range(n):\n",
    "    a=len(data)\n",
    "    b=sys.getsizeof(data)\n",
    "    data.append(None)\n",
    "for _ in range(n):\n",
    "    data.pop()\n",
    "    a=len(data)\n",
    "    b=sys.getsizeof(data)\n",
    "    print('Length: {0:3d}; Size in bytes: {1:4d}'.format(a,b))"
   ]
  },
  {
   "cell_type": "code",
   "execution_count": 18,
   "metadata": {},
   "outputs": [
    {
     "data": {
      "text/plain": [
       "'\\ntotal 6k cyeber-dollars costs\\n-> each index of 2k array costs 6 cyber dollars\\n=> O(n)\\n'"
      ]
     },
     "execution_count": 18,
     "metadata": {},
     "output_type": "execute_result"
    }
   ],
   "source": [
    "'''\n",
    "total 6k cyeber-dollars costs\n",
    "-> each index of 2k array costs 6 cyber dollars\n",
    "=> O(n)\n",
    "'''"
   ]
  },
  {
   "cell_type": "code",
   "execution_count": 26,
   "metadata": {},
   "outputs": [],
   "source": [
    "def repeated(S):\n",
    "    return sum(S)-len(S)*(len(S)-1)//2"
   ]
  },
  {
   "cell_type": "code",
   "execution_count": 38,
   "metadata": {},
   "outputs": [
    {
     "name": "stdout",
     "output_type": "stream",
     "text": [
      "Secret:  WKH HDJOH LV LQ SODB; PHHW DW MRH`V\n",
      "Message:  THE EAGLE IS IN PLAY; MEET AT JOE`S\n"
     ]
    }
   ],
   "source": [
    "class CeaserCipher:\n",
    "    def __init__(self,shift,lang='ABCDEFGHIJKLMNOPQRSTUVWXYZ'):\n",
    "        self.Llen=len(lang)\n",
    "        self.Lfst=lang[0]\n",
    "        self.lang=lang\n",
    "        encoder=[None]*self.Llen\n",
    "        decoder=[None]*self.Llen\n",
    "        for k in range(self.Llen):\n",
    "            encoder[k]=lang[(k+shift)%self.Llen]\n",
    "            decoder[k]=lang[(k-shift)%self.Llen]\n",
    "        self._forward=''.join(encoder)\n",
    "        self._backward=''.join(decoder)\n",
    "    def encrypt(self,message):\n",
    "        return self._transform(message,self._forward)\n",
    "    def decrypt(self,message):\n",
    "        return self._transform(message,self._backward)\n",
    "    def _transform(self,original,code):\n",
    "        msg=list(original)\n",
    "        for k in range(len(msg)):\n",
    "            if msg[k] in self.lang:\n",
    "                j=self.lang.index(msg[k])\n",
    "                msg[k]=code[j]\n",
    "        return ''.join(msg)\n",
    "if __name__=='__main__':\n",
    "    GREEK='ΑΒΓΔΕΖΗΘΙΚΛΜΝΞΟΠΡΣΤΥΦΧΨΩ'\n",
    "    RUSSIAN='АБВГДЕЁЖЗИЙКЛМНОПРСТУФХЦЧШЩЪЫЬЭЮЯ'\n",
    "    \n",
    "    cipher=CeaserCipher(3)\n",
    "    message='THE EAGLE IS IN PLAY; MEET AT JOE`S'\n",
    "    coded=cipher.encrypt(message)\n",
    "    print('Secret: ',coded)\n",
    "    answer=cipher.decrypt(coded)\n",
    "    print('Message: ',answer)"
   ]
  },
  {
   "cell_type": "code",
   "execution_count": 42,
   "metadata": {},
   "outputs": [],
   "source": [
    "def sum2d(l):\n",
    "    tot=0\n",
    "    for i in l:\n",
    "        for j in i:\n",
    "            tot+=j\n",
    "    return tot"
   ]
  },
  {
   "cell_type": "code",
   "execution_count": 55,
   "metadata": {},
   "outputs": [
    {
     "name": "stdout",
     "output_type": "stream",
     "text": [
      "x = 0\n",
      "56 904 1664 2528 3296 4264 5488 6224 7048 7976 \n",
      "x = 10\n",
      "192 1080 1960 2576 3360 4352 4944 6352 7192 8136 \n",
      "x = 100\n",
      "1000 1816 2736 3568 4064 5240 5944 6736 7624 8624 \n",
      "x = 1000\n",
      "9104 9104 10288 11624 11624 13120 13120 14808 14808 16704 \n"
     ]
    },
    {
     "data": {
      "text/plain": [
       "' 더블링되는거보다는 낭낭하게 오름 '"
      ]
     },
     "execution_count": 55,
     "metadata": {},
     "output_type": "execute_result"
    }
   ],
   "source": [
    "import sys\n",
    "def getsize(n,initial_len=0):\n",
    "    data=[]\n",
    "    data.extend([None]*initial_len)\n",
    "    for k in range(n):\n",
    "        a=len(data)\n",
    "        b=sys.getsizeof(data)\n",
    "        if k%100==0:\n",
    "            print(b,end=' ')\n",
    "        data.append(None)\n",
    "\n",
    "test=[0,10,100,1000]\n",
    "\n",
    "for x in test:\n",
    "    print('x =',x)\n",
    "    getsize(1000, x)\n",
    "    print()\n",
    "''' 더블링되는거보다는 낭낭하게 오름 '''"
   ]
  },
  {
   "cell_type": "code",
   "execution_count": 56,
   "metadata": {},
   "outputs": [
    {
     "data": {
      "text/plain": [
       "'\\nn+n/4=5/4n=N => 1/4n=1/5N \\n1/5N * cost= N\\n각 index마다 cost 5필요 = O(1) -> 전체 O(n)\\n'"
      ]
     },
     "execution_count": 56,
     "metadata": {},
     "output_type": "execute_result"
    }
   ],
   "source": [
    "'''\n",
    "n+n/4=5/4n=N => 1/4n=1/5N \n",
    "1/5N * cost= N\n",
    "각 index마다 cost 5필요 = O(1) -> 전체 O(n)\n",
    "'''"
   ]
  },
  {
   "cell_type": "code",
   "execution_count": 57,
   "metadata": {},
   "outputs": [
    {
     "data": {
      "text/plain": [
       "'\\npush가 O(n)이고\\npop도 O(n)이면\\npush+pop=O(n)\\n'"
      ]
     },
     "execution_count": 57,
     "metadata": {},
     "output_type": "execute_result"
    }
   ],
   "source": [
    "'''\n",
    "push가 O(n)이고\n",
    "pop도 O(n)이면\n",
    "push+pop=O(n)\n",
    "'''"
   ]
  },
  {
   "cell_type": "code",
   "execution_count": 58,
   "metadata": {},
   "outputs": [
    {
     "data": {
      "text/plain": [
       "'\\nshiranai\\n'"
      ]
     },
     "execution_count": 58,
     "metadata": {},
     "output_type": "execute_result"
    }
   ],
   "source": [
    "'''\n",
    "C-19\n",
    "shiranai\n",
    "'''"
   ]
  },
  {
   "cell_type": "code",
   "execution_count": 1,
   "metadata": {},
   "outputs": [
    {
     "data": {
      "text/plain": [
       "'\\nSurprisingly, they all seem to perform in O(n) time.  As the textbook mentioned, there must be something below\\nthe hood that makes the string append O(n) rather than O(n^2).  Note however that string append consistently did worse\\nthan the others in terms of total time\\n\\nThe list comprehension and generator oscillated between first place\\n\\nmatplotlib 잘 못씀 + 사실 내용 이해 잘 안됬음 ㅠ\\n\\n'"
      ]
     },
     "execution_count": 1,
     "metadata": {},
     "output_type": "execute_result"
    }
   ],
   "source": [
    "import time\n",
    "import matplotlib.pyplot as plt\n",
    "import pandas as pd\n",
    "\n",
    "class string_comparitor():\n",
    "    def __init__(self, num_tests = 100):\n",
    "        self._num_tests = num_tests\n",
    "        \n",
    "    def timer(func):\n",
    "        def wrapper(*args, **kwargs):\n",
    "            start = time.time()\n",
    "            for _ in range(args[0]._num_tests):\n",
    "                func(*args)\n",
    "            \n",
    "            end = time.time()\n",
    "            return(end-start)\n",
    "        return wrapper\n",
    "\n",
    "    @timer\n",
    "    def _string_append(self, string):\n",
    "        S = ''\n",
    "        for char in string:\n",
    "            S += char\n",
    "        return S\n",
    "    \n",
    "    @timer\n",
    "    def _list_then_join(self, string):\n",
    "        S = []\n",
    "        for char in string:\n",
    "            S.append(char)\n",
    "        return ''.join(S)\n",
    "    \n",
    "    @timer\n",
    "    def _join_lc(self, string):\n",
    "        return ''.join([x for x in string])\n",
    "    \n",
    "    @timer\n",
    "    def _join_generator(self, string):\n",
    "        return ''.join(x for x in string)\n",
    "\n",
    "\n",
    "    def test_methods(self, test_cases):\n",
    "        results = pd.DataFrame()\n",
    "        for n in test_cases:\n",
    "            string = 'a'*n\n",
    "            for name, func in [('String Append', self._string_append),\n",
    "                         ('List then Join', self._list_then_join),\n",
    "                         ('Join List Comprehension', self._join_lc), \n",
    "                         ('Join Generator', self._join_generator)]:\n",
    "                results.loc[name, n] = func(string)/n\n",
    "        return results\n",
    "        \n",
    "        \n",
    "tester = string_comparitor()\n",
    "tester.test_methods([10**x for x in range(7)])      \n",
    "\n",
    "\n",
    "\"\"\"\n",
    "Surprisingly, they all seem to perform in O(n) time.  As the textbook mentioned, there must be something below\n",
    "the hood that makes the string append O(n) rather than O(n^2).  Note however that string append consistently did worse\n",
    "than the others in terms of total time\n",
    "\n",
    "The list comprehension and generator oscillated between first place\n",
    "\n",
    "matplotlib 잘 못씀 + 사실 내용 이해 잘 안됬음 ㅠ\n",
    "\n",
    "\"\"\""
   ]
  },
  {
   "cell_type": "code",
   "execution_count": 2,
   "metadata": {},
   "outputs": [
    {
     "data": {
      "text/html": [
       "<div>\n",
       "<style scoped>\n",
       "    .dataframe tbody tr th:only-of-type {\n",
       "        vertical-align: middle;\n",
       "    }\n",
       "\n",
       "    .dataframe tbody tr th {\n",
       "        vertical-align: top;\n",
       "    }\n",
       "\n",
       "    .dataframe thead th {\n",
       "        text-align: right;\n",
       "    }\n",
       "</style>\n",
       "<table border=\"1\" class=\"dataframe\">\n",
       "  <thead>\n",
       "    <tr style=\"text-align: right;\">\n",
       "      <th></th>\n",
       "      <th>1</th>\n",
       "      <th>10</th>\n",
       "      <th>100</th>\n",
       "      <th>1000</th>\n",
       "      <th>10000</th>\n",
       "    </tr>\n",
       "  </thead>\n",
       "  <tbody>\n",
       "    <tr>\n",
       "      <th>Append</th>\n",
       "      <td>0.002861</td>\n",
       "      <td>0.000722</td>\n",
       "      <td>0.000539</td>\n",
       "      <td>0.000520</td>\n",
       "      <td>0.000511</td>\n",
       "    </tr>\n",
       "    <tr>\n",
       "      <th>Compehension</th>\n",
       "      <td>0.003292</td>\n",
       "      <td>0.000564</td>\n",
       "      <td>0.000302</td>\n",
       "      <td>0.000269</td>\n",
       "      <td>0.000260</td>\n",
       "    </tr>\n",
       "  </tbody>\n",
       "</table>\n",
       "</div>"
      ],
      "text/plain": [
       "                 1         10        100       1000      10000\n",
       "Append        0.002861  0.000722  0.000539  0.000520  0.000511\n",
       "Compehension  0.003292  0.000564  0.000302  0.000269  0.000260"
      ]
     },
     "execution_count": 2,
     "metadata": {},
     "output_type": "execute_result"
    }
   ],
   "source": [
    "import time\n",
    "import matplotlib.pyplot as plt\n",
    "import pandas as pd\n",
    "\n",
    "class AppendComparitor():\n",
    "    def __init__(self, num_tests=10000):\n",
    "        self._num_tests = num_tests\n",
    "    \n",
    "    def __call__(self, test_cases):\n",
    "        return self.tester(test_cases)\n",
    "    \n",
    "    def timer(func):\n",
    "        def wrapper(*args, **kwargs):\n",
    "            start = time.time()\n",
    "            \n",
    "            for _ in range(args[0]._num_tests):\n",
    "                func(*args, **kwargs)\n",
    "                                  \n",
    "            end = time.time()\n",
    "            return end-start\n",
    "        return wrapper\n",
    "    \n",
    "    @timer\n",
    "    def _by_comprehension(self, n):\n",
    "        return [None for i in range(n)]\n",
    "          \n",
    "    \n",
    "    @timer\n",
    "    def _by_append(self, n):\n",
    "        S = []\n",
    "        for _ in range(n):\n",
    "            S.append(None)\n",
    "        return S\n",
    "    \n",
    "    def tester(self, test_cases):\n",
    "        results = pd.DataFrame()\n",
    "        \n",
    "        for name, func in [('Append', self._by_append), ('Compehension', self._by_comprehension)]:\n",
    "            for n in test_cases:\n",
    "                results.loc[name, n] = func(n)/n\n",
    "                \n",
    "        return results\n",
    "            \n",
    "        \n",
    "  \n",
    "\n",
    "a = AppendComparitor()\n",
    "a([10**x for x in range(5)])"
   ]
  },
  {
   "cell_type": "code",
   "execution_count": 5,
   "metadata": {},
   "outputs": [],
   "source": [
    "class DynamicArray_RemoveAll():\n",
    "    def remove_all(self, value):\n",
    "        num_removed = 0\n",
    "        for i in range(self._n):\n",
    "            if self[i] == value: num_removed += 1\n",
    "            else: self[i-num_removed] = self[i]\n",
    "        self._n -= num_removed"
   ]
  },
  {
   "cell_type": "code",
   "execution_count": 8,
   "metadata": {},
   "outputs": [],
   "source": [
    "import math\n",
    "def missing(S):\n",
    "    n=2**(math.ceil(math.log(len(S),2)+1))\n",
    "    data=[False]*n\n",
    "    for i in S:\n",
    "        data[i]=True\n",
    "    ret=[]\n",
    "    for i in range(len(data)):\n",
    "        if not data[i]: ret.append(i)\n",
    "    return ret"
   ]
  },
  {
   "cell_type": "code",
   "execution_count": 10,
   "metadata": {},
   "outputs": [
    {
     "data": {
      "text/plain": [
       "'\\n베껴온거임\\n딕셔너리 쓰니까 lgn * n\\nB거 m이라 하면 전체 O(nmlgn)\\n'"
      ]
     },
     "execution_count": 10,
     "metadata": {},
     "output_type": "execute_result"
    }
   ],
   "source": [
    "def natural_join(A, B):\n",
    "    #First we create a mapping...\n",
    "    Y_map = {}\n",
    "    for x, y in A:\n",
    "        if y in Y_map: Y_map[y].add(x)\n",
    "        else: Y_map[y] = set({x})\n",
    "    \n",
    "    natural_join = []\n",
    "    for y, z in B:\n",
    "        if y in Y_map:\n",
    "            natural_join.extend([(x, y, z) for x in Y_map[y]])\n",
    "        \n",
    "    return natural_join\n",
    "'''\n",
    "베껴온거임\n",
    "딕셔너리 쓰니까 lgn * n\n",
    "B거 m이라 하면 전체 O(nmlgn)\n",
    "'''"
   ]
  },
  {
   "cell_type": "code",
   "execution_count": 12,
   "metadata": {},
   "outputs": [
    {
     "name": "stdout",
     "output_type": "stream",
     "text": [
      "4\n"
     ]
    }
   ],
   "source": [
    "def summ(S):\n",
    "    if type(S) == int: return S\n",
    "    ret=0\n",
    "    for i in S: ret+=summ(i)\n",
    "    return ret\n",
    "print(summ([[1,2],[1]]))"
   ]
  },
  {
   "cell_type": "code",
   "execution_count": 14,
   "metadata": {},
   "outputs": [],
   "source": [
    "# P\n",
    "def matmul(A,B):\n",
    "    for i in range(A): # m\n",
    "        l=[]\n",
    "        for k in range(B[0]): # p\n",
    "            r=0\n",
    "            for j in range(B): # n\n",
    "                r+=A[i][j]*B[j][k]\n",
    "            l.append(r)\n",
    "        ll.append(l)\n",
    "    return ll"
   ]
  },
  {
   "cell_type": "code",
   "execution_count": 16,
   "metadata": {},
   "outputs": [
    {
     "name": "stdout",
     "output_type": "stream",
     "text": [
      "J'WF DPNF UP UBML UP ZPV BHBJO\n",
      "I'VE COME TO TALK TO YOU AGAIN\n"
     ]
    }
   ],
   "source": [
    "class SubstitutionCipher():\n",
    "    def __init__(self, code = 'BCDEFGHIJKLMNOPQRSTUVWXYZA'):\n",
    "        self._forward = code\n",
    "        temp_bwd = [None]*26\n",
    "        for i in range(len(code)):\n",
    "            index = ord(self._forward[i])-ord('A')\n",
    "            temp_bwd[index] = chr(i + ord('A'))\n",
    "        self._backward = ''.join(temp_bwd)\n",
    "        \n",
    "        \n",
    "    def _translate(self, message, code):\n",
    "        result = []\n",
    "        for char in message:\n",
    "            if char.isupper():\n",
    "                result.append(code[ord(char)-ord('A')])\n",
    "            else:\n",
    "                result.append(char)\n",
    "        return ''.join(result)\n",
    "    \n",
    "    def encode(self, message):\n",
    "        return self._translate(message, self._forward)\n",
    "    \n",
    "    def decode(self, message):\n",
    "        return self._translate(message, self._backward)\n",
    "\n",
    "                     \n",
    "sc = SubstitutionCipher()\n",
    "        \n",
    "secret = sc.encode(\"I'VE COME TO TALK TO YOU AGAIN\")\n",
    "print(secret)\n",
    "message = sc.decode(secret)\n",
    "print(message)"
   ]
  },
  {
   "cell_type": "code",
   "execution_count": 18,
   "metadata": {},
   "outputs": [
    {
     "name": "stdout",
     "output_type": "stream",
     "text": [
      "MUBI JI'Z ZUUHZ LDJMU J LPZ ZMUUQJWY\n",
      "LEFT IT'S SEEDS WHILE I WAS SLEEPING\n",
      "\n",
      "FQNP UP'B BQQXB IRUFQ U IWB BFQQEUDC\n",
      "LEFT IT'S SEEDS WHILE I WAS SLEEPING\n",
      "\n",
      "EKVU FU'M MKKQM RZFEK F RIM MEKKYFAG\n",
      "LEFT IT'S SEEDS WHILE I WAS SLEEPING\n",
      "\n",
      "PJFV IV'T TJJQT RMIPJ I RUT TPJJBIWX\n",
      "LEFT IT'S SEEDS WHILE I WAS SLEEPING\n",
      "\n",
      "JAVS OS'C CAAUC QEOJA O QKC CJAAGOHB\n",
      "LEFT IT'S SEEDS WHILE I WAS SLEEPING\n",
      "\n",
      "TODL NL'Q QOOYQ FGNTO N FMQ QTOORNJE\n",
      "LEFT IT'S SEEDS WHILE I WAS SLEEPING\n",
      "\n",
      "KVXQ SQ'N NVVAN FLSKV S FBN NKVVCSJH\n",
      "LEFT IT'S SEEDS WHILE I WAS SLEEPING\n",
      "\n",
      "BXHF EF'T TXXZT GPEBX E GJT TBXXLEDN\n",
      "LEFT IT'S SEEDS WHILE I WAS SLEEPING\n",
      "\n",
      "KQTV UV'G GQQOG AZUKQ U AMG GKQQLUSY\n",
      "LEFT IT'S SEEDS WHILE I WAS SLEEPING\n",
      "\n",
      "PMSW UW'T TMMKT FNUPM U FOT TPMMVULE\n",
      "LEFT IT'S SEEDS WHILE I WAS SLEEPING\n",
      "\n"
     ]
    }
   ],
   "source": [
    "import random\n",
    "class RandomCipher(SubstitutionCipher):\n",
    "    def __init__(self):\n",
    "        forward = [chr(i+ord('A')) for i in range(26)]\n",
    "        random.shuffle(forward)\n",
    "        super().__init__(''.join(forward))\n",
    "\n",
    "for _ in range(10):\n",
    "    rc = RandomCipher()\n",
    "\n",
    "    secret = rc.encode(\"LEFT IT'S SEEDS WHILE I WAS SLEEPING\")\n",
    "    print(secret)\n",
    "    message = rc.decode(secret)\n",
    "    print(message, end = '\\n\\n')"
   ]
  }
 ],
 "metadata": {
  "kernelspec": {
   "display_name": "Python 3",
   "language": "python",
   "name": "python3"
  },
  "language_info": {
   "codemirror_mode": {
    "name": "ipython",
    "version": 3
   },
   "file_extension": ".py",
   "mimetype": "text/x-python",
   "name": "python",
   "nbconvert_exporter": "python",
   "pygments_lexer": "ipython3",
   "version": "3.8.6"
  }
 },
 "nbformat": 4,
 "nbformat_minor": 4
}
